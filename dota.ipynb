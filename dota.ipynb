{
 "metadata": {
  "language_info": {
   "codemirror_mode": {
    "name": "ipython",
    "version": 3
   },
   "file_extension": ".py",
   "mimetype": "text/x-python",
   "name": "python",
   "nbconvert_exporter": "python",
   "pygments_lexer": "ipython3",
   "version": "3.9.0"
  },
  "orig_nbformat": 4,
  "kernelspec": {
   "name": "python3",
   "display_name": "Python 3.9.0 64-bit"
  },
  "interpreter": {
   "hash": "0e8f02916ce4ec57490847cc8c54c12a9dae65680be9326a3269d9b7a61d6d19"
  }
 },
 "nbformat": 4,
 "nbformat_minor": 2,
 "cells": [
  {
   "source": [
    "# Data Preproccessing"
   ],
   "cell_type": "markdown",
   "metadata": {}
  },
  {
   "cell_type": "code",
   "execution_count": 1,
   "metadata": {},
   "outputs": [
    {
     "output_type": "execute_result",
     "data": {
      "text/plain": [
       "       match_id  start_time  duration  tower_status_radiant  \\\n",
       "0             0  1446750112      2375                  1982   \n",
       "1             1  1446753078      2582                     0   \n",
       "2             2  1446764586      2716                   256   \n",
       "3             3  1446765723      3085                     4   \n",
       "4             4  1446796385      1887                  2047   \n",
       "...         ...         ...       ...                   ...   \n",
       "49995     49995  1447829192      3025                  1824   \n",
       "49996     49996  1447829181      1451                  1982   \n",
       "49997     49997  1447829197      2672                  1830   \n",
       "49998     49998  1447829189      2211                  1982   \n",
       "49999     49999  1447829215      2788                     0   \n",
       "\n",
       "       tower_status_dire  barracks_status_dire  barracks_status_radiant  \\\n",
       "0                      4                     3                       63   \n",
       "1                   1846                    63                        0   \n",
       "2                   1972                    63                       48   \n",
       "3                   1924                    51                        3   \n",
       "4                      0                     0                       63   \n",
       "...                  ...                   ...                      ...   \n",
       "49995                  0                     0                       63   \n",
       "49996                384                    48                       63   \n",
       "49997                  0                     0                       63   \n",
       "49998                  4                     3                       63   \n",
       "49999               2046                    63                        0   \n",
       "\n",
       "       first_blood_time  game_mode  radiant_win  negative_votes  \\\n",
       "0                     1         22         True               0   \n",
       "1                   221         22        False               0   \n",
       "2                   190         22        False               0   \n",
       "3                    40         22        False               0   \n",
       "4                    58         22         True               0   \n",
       "...                 ...        ...          ...             ...   \n",
       "49995               117         22         True               0   \n",
       "49996               147         22         True               0   \n",
       "49997               130         22         True               0   \n",
       "49998               645         22         True               0   \n",
       "49999               326         22        False               0   \n",
       "\n",
       "       positive_votes  cluster  \n",
       "0                   1      155  \n",
       "1                   2      154  \n",
       "2                   0      132  \n",
       "3                   0      191  \n",
       "4                   0      156  \n",
       "...               ...      ...  \n",
       "49995               0      111  \n",
       "49996               0      204  \n",
       "49997               0      111  \n",
       "49998               0      151  \n",
       "49999               0      154  \n",
       "\n",
       "[48670 rows x 13 columns]"
      ],
      "text/html": "<div>\n<style scoped>\n    .dataframe tbody tr th:only-of-type {\n        vertical-align: middle;\n    }\n\n    .dataframe tbody tr th {\n        vertical-align: top;\n    }\n\n    .dataframe thead th {\n        text-align: right;\n    }\n</style>\n<table border=\"1\" class=\"dataframe\">\n  <thead>\n    <tr style=\"text-align: right;\">\n      <th></th>\n      <th>match_id</th>\n      <th>start_time</th>\n      <th>duration</th>\n      <th>tower_status_radiant</th>\n      <th>tower_status_dire</th>\n      <th>barracks_status_dire</th>\n      <th>barracks_status_radiant</th>\n      <th>first_blood_time</th>\n      <th>game_mode</th>\n      <th>radiant_win</th>\n      <th>negative_votes</th>\n      <th>positive_votes</th>\n      <th>cluster</th>\n    </tr>\n  </thead>\n  <tbody>\n    <tr>\n      <th>0</th>\n      <td>0</td>\n      <td>1446750112</td>\n      <td>2375</td>\n      <td>1982</td>\n      <td>4</td>\n      <td>3</td>\n      <td>63</td>\n      <td>1</td>\n      <td>22</td>\n      <td>True</td>\n      <td>0</td>\n      <td>1</td>\n      <td>155</td>\n    </tr>\n    <tr>\n      <th>1</th>\n      <td>1</td>\n      <td>1446753078</td>\n      <td>2582</td>\n      <td>0</td>\n      <td>1846</td>\n      <td>63</td>\n      <td>0</td>\n      <td>221</td>\n      <td>22</td>\n      <td>False</td>\n      <td>0</td>\n      <td>2</td>\n      <td>154</td>\n    </tr>\n    <tr>\n      <th>2</th>\n      <td>2</td>\n      <td>1446764586</td>\n      <td>2716</td>\n      <td>256</td>\n      <td>1972</td>\n      <td>63</td>\n      <td>48</td>\n      <td>190</td>\n      <td>22</td>\n      <td>False</td>\n      <td>0</td>\n      <td>0</td>\n      <td>132</td>\n    </tr>\n    <tr>\n      <th>3</th>\n      <td>3</td>\n      <td>1446765723</td>\n      <td>3085</td>\n      <td>4</td>\n      <td>1924</td>\n      <td>51</td>\n      <td>3</td>\n      <td>40</td>\n      <td>22</td>\n      <td>False</td>\n      <td>0</td>\n      <td>0</td>\n      <td>191</td>\n    </tr>\n    <tr>\n      <th>4</th>\n      <td>4</td>\n      <td>1446796385</td>\n      <td>1887</td>\n      <td>2047</td>\n      <td>0</td>\n      <td>0</td>\n      <td>63</td>\n      <td>58</td>\n      <td>22</td>\n      <td>True</td>\n      <td>0</td>\n      <td>0</td>\n      <td>156</td>\n    </tr>\n    <tr>\n      <th>...</th>\n      <td>...</td>\n      <td>...</td>\n      <td>...</td>\n      <td>...</td>\n      <td>...</td>\n      <td>...</td>\n      <td>...</td>\n      <td>...</td>\n      <td>...</td>\n      <td>...</td>\n      <td>...</td>\n      <td>...</td>\n      <td>...</td>\n    </tr>\n    <tr>\n      <th>49995</th>\n      <td>49995</td>\n      <td>1447829192</td>\n      <td>3025</td>\n      <td>1824</td>\n      <td>0</td>\n      <td>0</td>\n      <td>63</td>\n      <td>117</td>\n      <td>22</td>\n      <td>True</td>\n      <td>0</td>\n      <td>0</td>\n      <td>111</td>\n    </tr>\n    <tr>\n      <th>49996</th>\n      <td>49996</td>\n      <td>1447829181</td>\n      <td>1451</td>\n      <td>1982</td>\n      <td>384</td>\n      <td>48</td>\n      <td>63</td>\n      <td>147</td>\n      <td>22</td>\n      <td>True</td>\n      <td>0</td>\n      <td>0</td>\n      <td>204</td>\n    </tr>\n    <tr>\n      <th>49997</th>\n      <td>49997</td>\n      <td>1447829197</td>\n      <td>2672</td>\n      <td>1830</td>\n      <td>0</td>\n      <td>0</td>\n      <td>63</td>\n      <td>130</td>\n      <td>22</td>\n      <td>True</td>\n      <td>0</td>\n      <td>0</td>\n      <td>111</td>\n    </tr>\n    <tr>\n      <th>49998</th>\n      <td>49998</td>\n      <td>1447829189</td>\n      <td>2211</td>\n      <td>1982</td>\n      <td>4</td>\n      <td>3</td>\n      <td>63</td>\n      <td>645</td>\n      <td>22</td>\n      <td>True</td>\n      <td>0</td>\n      <td>0</td>\n      <td>151</td>\n    </tr>\n    <tr>\n      <th>49999</th>\n      <td>49999</td>\n      <td>1447829215</td>\n      <td>2788</td>\n      <td>0</td>\n      <td>2046</td>\n      <td>63</td>\n      <td>0</td>\n      <td>326</td>\n      <td>22</td>\n      <td>False</td>\n      <td>0</td>\n      <td>0</td>\n      <td>154</td>\n    </tr>\n  </tbody>\n</table>\n<p>48670 rows × 13 columns</p>\n</div>"
     },
     "metadata": {},
     "execution_count": 1
    }
   ],
   "source": [
    "import numpy as np\n",
    "import pandas as pd\n",
    "import os.path\n",
    "import tensorflow as tf\n",
    "import keras\n",
    "from tensorflow.keras import activations\n",
    "from tensorflow.keras import layers\n",
    "from sklearn.model_selection import train_test_split\n",
    "from matplotlib import pyplot as plt\n",
    "\n",
    "match_df = pd.read_csv(\"data/match.csv\", sep=\",\")\n",
    "match_df = match_df.query(\"game_mode == 22\")\n",
    "match_df"
   ]
  },
  {
   "source": [
    "In this part we are removing non-competitive game modes from our dataset to make it more closer to in real life data. In competitive game modes players take the game more seriously and penalty for griefing the game is harsher."
   ],
   "cell_type": "markdown",
   "metadata": {}
  },
  {
   "cell_type": "code",
   "execution_count": 2,
   "metadata": {},
   "outputs": [
    {
     "output_type": "execute_result",
     "data": {
      "text/plain": [
       "           match_id  account_id_0  account_id_1  account_id_2  account_id_3  \\\n",
       "0        1636204962         34549             0             0     -51743434   \n",
       "1        1636204962             0         61598        138825             0   \n",
       "2        1636322679             0     -44943233    -240360907         19599   \n",
       "3        1636322679     -97530201             0             0             0   \n",
       "4        1637385965             0             0             0        104738   \n",
       "...             ...           ...           ...           ...           ...   \n",
       "1828583  1930327119          2898             0          4161         27088   \n",
       "1828584  1930333522        276597         47600         26597    -191452592   \n",
       "1828585  1930333522         35144    -198295236         41272             0   \n",
       "1828586  1930334829             0          2850    -119710321        188881   \n",
       "1828587  1930334829             0         45125             0         53149   \n",
       "\n",
       "         account_id_4  start_time  parser_version  win  rad  \n",
       "0          -120875154  1437014585              12    1    0  \n",
       "1              207232  1437014585              12    0    1  \n",
       "2                   0  1437019968              12    0    0  \n",
       "3          -116349387  1437019968              12    1    1  \n",
       "4                   0  1437052551              12    1    0  \n",
       "...               ...         ...             ...  ...  ...  \n",
       "1828583             0  1447311134              14    0    0  \n",
       "1828584        147872  1447311476              14    1    1  \n",
       "1828585        151139  1447311476              14    0    0  \n",
       "1828586             0  1447311544              14    0    0  \n",
       "1828587             0  1447311544              14    1    1  \n",
       "\n",
       "[1828588 rows x 10 columns]"
      ],
      "text/html": "<div>\n<style scoped>\n    .dataframe tbody tr th:only-of-type {\n        vertical-align: middle;\n    }\n\n    .dataframe tbody tr th {\n        vertical-align: top;\n    }\n\n    .dataframe thead th {\n        text-align: right;\n    }\n</style>\n<table border=\"1\" class=\"dataframe\">\n  <thead>\n    <tr style=\"text-align: right;\">\n      <th></th>\n      <th>match_id</th>\n      <th>account_id_0</th>\n      <th>account_id_1</th>\n      <th>account_id_2</th>\n      <th>account_id_3</th>\n      <th>account_id_4</th>\n      <th>start_time</th>\n      <th>parser_version</th>\n      <th>win</th>\n      <th>rad</th>\n    </tr>\n  </thead>\n  <tbody>\n    <tr>\n      <th>0</th>\n      <td>1636204962</td>\n      <td>34549</td>\n      <td>0</td>\n      <td>0</td>\n      <td>-51743434</td>\n      <td>-120875154</td>\n      <td>1437014585</td>\n      <td>12</td>\n      <td>1</td>\n      <td>0</td>\n    </tr>\n    <tr>\n      <th>1</th>\n      <td>1636204962</td>\n      <td>0</td>\n      <td>61598</td>\n      <td>138825</td>\n      <td>0</td>\n      <td>207232</td>\n      <td>1437014585</td>\n      <td>12</td>\n      <td>0</td>\n      <td>1</td>\n    </tr>\n    <tr>\n      <th>2</th>\n      <td>1636322679</td>\n      <td>0</td>\n      <td>-44943233</td>\n      <td>-240360907</td>\n      <td>19599</td>\n      <td>0</td>\n      <td>1437019968</td>\n      <td>12</td>\n      <td>0</td>\n      <td>0</td>\n    </tr>\n    <tr>\n      <th>3</th>\n      <td>1636322679</td>\n      <td>-97530201</td>\n      <td>0</td>\n      <td>0</td>\n      <td>0</td>\n      <td>-116349387</td>\n      <td>1437019968</td>\n      <td>12</td>\n      <td>1</td>\n      <td>1</td>\n    </tr>\n    <tr>\n      <th>4</th>\n      <td>1637385965</td>\n      <td>0</td>\n      <td>0</td>\n      <td>0</td>\n      <td>104738</td>\n      <td>0</td>\n      <td>1437052551</td>\n      <td>12</td>\n      <td>1</td>\n      <td>0</td>\n    </tr>\n    <tr>\n      <th>...</th>\n      <td>...</td>\n      <td>...</td>\n      <td>...</td>\n      <td>...</td>\n      <td>...</td>\n      <td>...</td>\n      <td>...</td>\n      <td>...</td>\n      <td>...</td>\n      <td>...</td>\n    </tr>\n    <tr>\n      <th>1828583</th>\n      <td>1930327119</td>\n      <td>2898</td>\n      <td>0</td>\n      <td>4161</td>\n      <td>27088</td>\n      <td>0</td>\n      <td>1447311134</td>\n      <td>14</td>\n      <td>0</td>\n      <td>0</td>\n    </tr>\n    <tr>\n      <th>1828584</th>\n      <td>1930333522</td>\n      <td>276597</td>\n      <td>47600</td>\n      <td>26597</td>\n      <td>-191452592</td>\n      <td>147872</td>\n      <td>1447311476</td>\n      <td>14</td>\n      <td>1</td>\n      <td>1</td>\n    </tr>\n    <tr>\n      <th>1828585</th>\n      <td>1930333522</td>\n      <td>35144</td>\n      <td>-198295236</td>\n      <td>41272</td>\n      <td>0</td>\n      <td>151139</td>\n      <td>1447311476</td>\n      <td>14</td>\n      <td>0</td>\n      <td>0</td>\n    </tr>\n    <tr>\n      <th>1828586</th>\n      <td>1930334829</td>\n      <td>0</td>\n      <td>2850</td>\n      <td>-119710321</td>\n      <td>188881</td>\n      <td>0</td>\n      <td>1447311544</td>\n      <td>14</td>\n      <td>0</td>\n      <td>0</td>\n    </tr>\n    <tr>\n      <th>1828587</th>\n      <td>1930334829</td>\n      <td>0</td>\n      <td>45125</td>\n      <td>0</td>\n      <td>53149</td>\n      <td>0</td>\n      <td>1447311544</td>\n      <td>14</td>\n      <td>1</td>\n      <td>1</td>\n    </tr>\n  </tbody>\n</table>\n<p>1828588 rows × 10 columns</p>\n</div>"
     },
     "metadata": {},
     "execution_count": 2
    }
   ],
   "source": [
    "match_outcomes_df = pd.read_csv(\"data/match_outcomes.csv\", sep=\",\")\n",
    "match_outcomes_df"
   ]
  },
  {
   "cell_type": "code",
   "execution_count": 3,
   "metadata": {},
   "outputs": [
    {
     "output_type": "execute_result",
     "data": {
      "text/plain": [
       "         match_id   key  player1  player2  slot                     subtype  \\\n",
       "0               0   NaN        0        6   0.0     CHAT_MESSAGE_FIRSTBLOOD   \n",
       "1               0   NaN        3       -1   3.0     CHAT_MESSAGE_TOWER_KILL   \n",
       "2               0   NaN        2       -1   NaN    CHAT_MESSAGE_ROSHAN_KILL   \n",
       "3               0   NaN        1       -1   1.0          CHAT_MESSAGE_AEGIS   \n",
       "4               0   NaN        7       -1   7.0     CHAT_MESSAGE_TOWER_KILL   \n",
       "...           ...   ...      ...      ...   ...                         ...   \n",
       "1173391     49999  64.0       -1       -1   NaN  CHAT_MESSAGE_BARRACKS_KILL   \n",
       "1173392     49999   NaN        9       -1   9.0     CHAT_MESSAGE_TOWER_KILL   \n",
       "1173393     49999   NaN        3       -1   NaN    CHAT_MESSAGE_ROSHAN_KILL   \n",
       "1173394     49999   NaN        7       -1   7.0          CHAT_MESSAGE_AEGIS   \n",
       "1173395     49999   NaN        6       -1   6.0     CHAT_MESSAGE_TOWER_KILL   \n",
       "\n",
       "         team  time  value  \n",
       "0         NaN     1    309  \n",
       "1         2.0   894      2  \n",
       "2         2.0   925    200  \n",
       "3         NaN   925      0  \n",
       "4         3.0  1016      3  \n",
       "...       ...   ...    ...  \n",
       "1173391   NaN  2565     64  \n",
       "1173392   3.0  2611      3  \n",
       "1173393   3.0  2707    200  \n",
       "1173394   NaN  2730      0  \n",
       "1173395   3.0  2785      3  \n",
       "\n",
       "[1173396 rows x 9 columns]"
      ],
      "text/html": "<div>\n<style scoped>\n    .dataframe tbody tr th:only-of-type {\n        vertical-align: middle;\n    }\n\n    .dataframe tbody tr th {\n        vertical-align: top;\n    }\n\n    .dataframe thead th {\n        text-align: right;\n    }\n</style>\n<table border=\"1\" class=\"dataframe\">\n  <thead>\n    <tr style=\"text-align: right;\">\n      <th></th>\n      <th>match_id</th>\n      <th>key</th>\n      <th>player1</th>\n      <th>player2</th>\n      <th>slot</th>\n      <th>subtype</th>\n      <th>team</th>\n      <th>time</th>\n      <th>value</th>\n    </tr>\n  </thead>\n  <tbody>\n    <tr>\n      <th>0</th>\n      <td>0</td>\n      <td>NaN</td>\n      <td>0</td>\n      <td>6</td>\n      <td>0.0</td>\n      <td>CHAT_MESSAGE_FIRSTBLOOD</td>\n      <td>NaN</td>\n      <td>1</td>\n      <td>309</td>\n    </tr>\n    <tr>\n      <th>1</th>\n      <td>0</td>\n      <td>NaN</td>\n      <td>3</td>\n      <td>-1</td>\n      <td>3.0</td>\n      <td>CHAT_MESSAGE_TOWER_KILL</td>\n      <td>2.0</td>\n      <td>894</td>\n      <td>2</td>\n    </tr>\n    <tr>\n      <th>2</th>\n      <td>0</td>\n      <td>NaN</td>\n      <td>2</td>\n      <td>-1</td>\n      <td>NaN</td>\n      <td>CHAT_MESSAGE_ROSHAN_KILL</td>\n      <td>2.0</td>\n      <td>925</td>\n      <td>200</td>\n    </tr>\n    <tr>\n      <th>3</th>\n      <td>0</td>\n      <td>NaN</td>\n      <td>1</td>\n      <td>-1</td>\n      <td>1.0</td>\n      <td>CHAT_MESSAGE_AEGIS</td>\n      <td>NaN</td>\n      <td>925</td>\n      <td>0</td>\n    </tr>\n    <tr>\n      <th>4</th>\n      <td>0</td>\n      <td>NaN</td>\n      <td>7</td>\n      <td>-1</td>\n      <td>7.0</td>\n      <td>CHAT_MESSAGE_TOWER_KILL</td>\n      <td>3.0</td>\n      <td>1016</td>\n      <td>3</td>\n    </tr>\n    <tr>\n      <th>...</th>\n      <td>...</td>\n      <td>...</td>\n      <td>...</td>\n      <td>...</td>\n      <td>...</td>\n      <td>...</td>\n      <td>...</td>\n      <td>...</td>\n      <td>...</td>\n    </tr>\n    <tr>\n      <th>1173391</th>\n      <td>49999</td>\n      <td>64.0</td>\n      <td>-1</td>\n      <td>-1</td>\n      <td>NaN</td>\n      <td>CHAT_MESSAGE_BARRACKS_KILL</td>\n      <td>NaN</td>\n      <td>2565</td>\n      <td>64</td>\n    </tr>\n    <tr>\n      <th>1173392</th>\n      <td>49999</td>\n      <td>NaN</td>\n      <td>9</td>\n      <td>-1</td>\n      <td>9.0</td>\n      <td>CHAT_MESSAGE_TOWER_KILL</td>\n      <td>3.0</td>\n      <td>2611</td>\n      <td>3</td>\n    </tr>\n    <tr>\n      <th>1173393</th>\n      <td>49999</td>\n      <td>NaN</td>\n      <td>3</td>\n      <td>-1</td>\n      <td>NaN</td>\n      <td>CHAT_MESSAGE_ROSHAN_KILL</td>\n      <td>3.0</td>\n      <td>2707</td>\n      <td>200</td>\n    </tr>\n    <tr>\n      <th>1173394</th>\n      <td>49999</td>\n      <td>NaN</td>\n      <td>7</td>\n      <td>-1</td>\n      <td>7.0</td>\n      <td>CHAT_MESSAGE_AEGIS</td>\n      <td>NaN</td>\n      <td>2730</td>\n      <td>0</td>\n    </tr>\n    <tr>\n      <th>1173395</th>\n      <td>49999</td>\n      <td>NaN</td>\n      <td>6</td>\n      <td>-1</td>\n      <td>6.0</td>\n      <td>CHAT_MESSAGE_TOWER_KILL</td>\n      <td>3.0</td>\n      <td>2785</td>\n      <td>3</td>\n    </tr>\n  </tbody>\n</table>\n<p>1173396 rows × 9 columns</p>\n</div>"
     },
     "metadata": {},
     "execution_count": 3
    }
   ],
   "source": [
    "objectives_df = pd.read_csv(\"data/objectives.csv\", sep=\",\")\n",
    "objectives_df"
   ]
  },
  {
   "cell_type": "code",
   "execution_count": 4,
   "metadata": {},
   "outputs": [
    {
     "output_type": "stream",
     "name": "stderr",
     "text": [
      "<ipython-input-4-1d79a3a376d0>:2: SettingWithCopyWarning: \nA value is trying to be set on a copy of a slice from a DataFrame.\nTry using .loc[row_indexer,col_indexer] = value instead\n\nSee the caveats in the documentation: https://pandas.pydata.org/pandas-docs/stable/user_guide/indexing.html#returning-a-view-versus-a-copy\n  first_blood_df[\"first_blood_team\"] = np.where(first_blood_df[\"player1\"] < 5, 1, 0)\n"
     ]
    },
    {
     "output_type": "execute_result",
     "data": {
      "text/plain": [
       "         match_id  first_blood_team\n",
       "0               0                 1\n",
       "21              1                 1\n",
       "47              2                 0\n",
       "68              3                 0\n",
       "95              4                 1\n",
       "...           ...               ...\n",
       "1173284     49995                 1\n",
       "1173311     49996                 0\n",
       "1173327     49997                 1\n",
       "1173353     49998                 1\n",
       "1173373     49999                 0\n",
       "\n",
       "[48721 rows x 2 columns]"
      ],
      "text/html": "<div>\n<style scoped>\n    .dataframe tbody tr th:only-of-type {\n        vertical-align: middle;\n    }\n\n    .dataframe tbody tr th {\n        vertical-align: top;\n    }\n\n    .dataframe thead th {\n        text-align: right;\n    }\n</style>\n<table border=\"1\" class=\"dataframe\">\n  <thead>\n    <tr style=\"text-align: right;\">\n      <th></th>\n      <th>match_id</th>\n      <th>first_blood_team</th>\n    </tr>\n  </thead>\n  <tbody>\n    <tr>\n      <th>0</th>\n      <td>0</td>\n      <td>1</td>\n    </tr>\n    <tr>\n      <th>21</th>\n      <td>1</td>\n      <td>1</td>\n    </tr>\n    <tr>\n      <th>47</th>\n      <td>2</td>\n      <td>0</td>\n    </tr>\n    <tr>\n      <th>68</th>\n      <td>3</td>\n      <td>0</td>\n    </tr>\n    <tr>\n      <th>95</th>\n      <td>4</td>\n      <td>1</td>\n    </tr>\n    <tr>\n      <th>...</th>\n      <td>...</td>\n      <td>...</td>\n    </tr>\n    <tr>\n      <th>1173284</th>\n      <td>49995</td>\n      <td>1</td>\n    </tr>\n    <tr>\n      <th>1173311</th>\n      <td>49996</td>\n      <td>0</td>\n    </tr>\n    <tr>\n      <th>1173327</th>\n      <td>49997</td>\n      <td>1</td>\n    </tr>\n    <tr>\n      <th>1173353</th>\n      <td>49998</td>\n      <td>1</td>\n    </tr>\n    <tr>\n      <th>1173373</th>\n      <td>49999</td>\n      <td>0</td>\n    </tr>\n  </tbody>\n</table>\n<p>48721 rows × 2 columns</p>\n</div>"
     },
     "metadata": {},
     "execution_count": 4
    }
   ],
   "source": [
    "first_blood_df = objectives_df.query(\"subtype == 'CHAT_MESSAGE_FIRSTBLOOD'\")\n",
    "first_blood_df[\"first_blood_team\"] = np.where(first_blood_df[\"player1\"] < 5, 1, 0)\n",
    "first_blood_df = first_blood_df[[\"match_id\", \"first_blood_team\"]]\n",
    "first_blood_df"
   ]
  },
  {
   "source": [
    "We are getting first blood data from objectives dataset which is the first kill of the game and it will be used to compare it to our win label. \n",
    "Player id's are between 0 and 9 and player id's lower than 5 means radiant team's player taken the first blood."
   ],
   "cell_type": "markdown",
   "metadata": {}
  },
  {
   "cell_type": "code",
   "execution_count": 5,
   "metadata": {},
   "outputs": [
    {
     "output_type": "stream",
     "name": "stderr",
     "text": [
      "<ipython-input-5-2b49eb74e949>:2: SettingWithCopyWarning: \nA value is trying to be set on a copy of a slice from a DataFrame.\nTry using .loc[row_indexer,col_indexer] = value instead\n\nSee the caveats in the documentation: https://pandas.pydata.org/pandas-docs/stable/user_guide/indexing.html#returning-a-view-versus-a-copy\n  roshan_df[\"roshan_team\"] = np.where(roshan_df[\"player1\"] < 5, 1, 0).astype(float)\n"
     ]
    },
    {
     "output_type": "execute_result",
     "data": {
      "text/plain": [
       "         match_id  roshan_team\n",
       "8               0          1.0\n",
       "30              1          1.0\n",
       "60              2          1.0\n",
       "91              3          1.0\n",
       "110             4          1.0\n",
       "...           ...          ...\n",
       "1173274     49994          1.0\n",
       "1173298     49995          1.0\n",
       "1173336     49997          1.0\n",
       "1173366     49998          1.0\n",
       "1173393     49999          1.0\n",
       "\n",
       "[43987 rows x 2 columns]"
      ],
      "text/html": "<div>\n<style scoped>\n    .dataframe tbody tr th:only-of-type {\n        vertical-align: middle;\n    }\n\n    .dataframe tbody tr th {\n        vertical-align: top;\n    }\n\n    .dataframe thead th {\n        text-align: right;\n    }\n</style>\n<table border=\"1\" class=\"dataframe\">\n  <thead>\n    <tr style=\"text-align: right;\">\n      <th></th>\n      <th>match_id</th>\n      <th>roshan_team</th>\n    </tr>\n  </thead>\n  <tbody>\n    <tr>\n      <th>8</th>\n      <td>0</td>\n      <td>1.0</td>\n    </tr>\n    <tr>\n      <th>30</th>\n      <td>1</td>\n      <td>1.0</td>\n    </tr>\n    <tr>\n      <th>60</th>\n      <td>2</td>\n      <td>1.0</td>\n    </tr>\n    <tr>\n      <th>91</th>\n      <td>3</td>\n      <td>1.0</td>\n    </tr>\n    <tr>\n      <th>110</th>\n      <td>4</td>\n      <td>1.0</td>\n    </tr>\n    <tr>\n      <th>...</th>\n      <td>...</td>\n      <td>...</td>\n    </tr>\n    <tr>\n      <th>1173274</th>\n      <td>49994</td>\n      <td>1.0</td>\n    </tr>\n    <tr>\n      <th>1173298</th>\n      <td>49995</td>\n      <td>1.0</td>\n    </tr>\n    <tr>\n      <th>1173336</th>\n      <td>49997</td>\n      <td>1.0</td>\n    </tr>\n    <tr>\n      <th>1173366</th>\n      <td>49998</td>\n      <td>1.0</td>\n    </tr>\n    <tr>\n      <th>1173393</th>\n      <td>49999</td>\n      <td>1.0</td>\n    </tr>\n  </tbody>\n</table>\n<p>43987 rows × 2 columns</p>\n</div>"
     },
     "metadata": {},
     "execution_count": 5
    }
   ],
   "source": [
    "roshan_df = objectives_df.query(\"subtype == 'CHAT_MESSAGE_ROSHAN_KILL'\")\n",
    "roshan_df[\"roshan_team\"] = np.where(roshan_df[\"player1\"] < 5, 1, 0).astype(float)\n",
    "roshan_df = roshan_df.loc[roshan_df.groupby(\"match_id\")[\"time\"].idxmax()]\n",
    "roshan_df = roshan_df[[\"match_id\",\"roshan_team\"]]\n",
    "roshan_df "
   ]
  },
  {
   "source": [
    "Similiar to first blood we are taking a Non-Player Controlled(NPC) unit's kills from the game, when this NPC is killed it grants a team significiant advantage this is why we are going to compare it with our win condition."
   ],
   "cell_type": "markdown",
   "metadata": {}
  },
  {
   "cell_type": "code",
   "execution_count": 6,
   "metadata": {},
   "outputs": [
    {
     "output_type": "execute_result",
     "data": {
      "text/plain": [
       "       first_blood_team  roshan_team  radiant_win\n",
       "0                     1          1.0          1.0\n",
       "1                     1          1.0          0.0\n",
       "2                     0          1.0          0.0\n",
       "3                     0          1.0          0.0\n",
       "4                     1          1.0          1.0\n",
       "...                 ...          ...          ...\n",
       "41672                 0          1.0          0.0\n",
       "41673                 1          1.0          1.0\n",
       "41674                 1          1.0          1.0\n",
       "41675                 1          1.0          1.0\n",
       "41676                 0          1.0          0.0\n",
       "\n",
       "[41677 rows x 3 columns]"
      ],
      "text/html": "<div>\n<style scoped>\n    .dataframe tbody tr th:only-of-type {\n        vertical-align: middle;\n    }\n\n    .dataframe tbody tr th {\n        vertical-align: top;\n    }\n\n    .dataframe thead th {\n        text-align: right;\n    }\n</style>\n<table border=\"1\" class=\"dataframe\">\n  <thead>\n    <tr style=\"text-align: right;\">\n      <th></th>\n      <th>first_blood_team</th>\n      <th>roshan_team</th>\n      <th>radiant_win</th>\n    </tr>\n  </thead>\n  <tbody>\n    <tr>\n      <th>0</th>\n      <td>1</td>\n      <td>1.0</td>\n      <td>1.0</td>\n    </tr>\n    <tr>\n      <th>1</th>\n      <td>1</td>\n      <td>1.0</td>\n      <td>0.0</td>\n    </tr>\n    <tr>\n      <th>2</th>\n      <td>0</td>\n      <td>1.0</td>\n      <td>0.0</td>\n    </tr>\n    <tr>\n      <th>3</th>\n      <td>0</td>\n      <td>1.0</td>\n      <td>0.0</td>\n    </tr>\n    <tr>\n      <th>4</th>\n      <td>1</td>\n      <td>1.0</td>\n      <td>1.0</td>\n    </tr>\n    <tr>\n      <th>...</th>\n      <td>...</td>\n      <td>...</td>\n      <td>...</td>\n    </tr>\n    <tr>\n      <th>41672</th>\n      <td>0</td>\n      <td>1.0</td>\n      <td>0.0</td>\n    </tr>\n    <tr>\n      <th>41673</th>\n      <td>1</td>\n      <td>1.0</td>\n      <td>1.0</td>\n    </tr>\n    <tr>\n      <th>41674</th>\n      <td>1</td>\n      <td>1.0</td>\n      <td>1.0</td>\n    </tr>\n    <tr>\n      <th>41675</th>\n      <td>1</td>\n      <td>1.0</td>\n      <td>1.0</td>\n    </tr>\n    <tr>\n      <th>41676</th>\n      <td>0</td>\n      <td>1.0</td>\n      <td>0.0</td>\n    </tr>\n  </tbody>\n</table>\n<p>41677 rows × 3 columns</p>\n</div>"
     },
     "metadata": {},
     "execution_count": 6
    }
   ],
   "source": [
    "df = pd.merge(match_df, first_blood_df, how=\"inner\", on=\"match_id\").merge(roshan_df, on=\"match_id\")\n",
    "df = df[[\"first_blood_team\", \"roshan_team\", \"radiant_win\"]]\n",
    "df[\"radiant_win\"] = df[\"radiant_win\"].astype(float)\n",
    "df"
   ]
  },
  {
   "source": [
    "Joining all of our trasformed dataframe to create a data model."
   ],
   "cell_type": "markdown",
   "metadata": {}
  },
  {
   "source": [
    "# Machine Learning"
   ],
   "cell_type": "markdown",
   "metadata": {}
  },
  {
   "cell_type": "code",
   "execution_count": 7,
   "metadata": {},
   "outputs": [
    {
     "output_type": "execute_result",
     "data": {
      "text/plain": [
       "<tf.Tensor: shape=(33342, 1), dtype=float32, numpy=\n",
       "array([[0.],\n",
       "       [1.],\n",
       "       [1.],\n",
       "       ...,\n",
       "       [1.],\n",
       "       [0.],\n",
       "       [1.]], dtype=float32)>"
      ]
     },
     "metadata": {},
     "execution_count": 7
    }
   ],
   "source": [
    "df_train = df.sample(frac=0.8,random_state=9)\n",
    "df_test = df.drop(df_train.index)\n",
    "\n",
    "feature_columns = []\n",
    "feature_columns.append(tf.feature_column.numeric_column(\"first_blood_team\"))\n",
    "#feature_columns.append(tf.feature_column.numeric_column(\"roshan_team\"))\n",
    "feature_layer = layers.DenseFeatures(feature_columns)"
   ]
  },
  {
   "source": [
    "In this part we are splitting our data to train and test with 80/20 split and adding our features to model"
   ],
   "cell_type": "markdown",
   "metadata": {}
  },
  {
   "cell_type": "code",
   "execution_count": 8,
   "metadata": {},
   "outputs": [
    {
     "output_type": "stream",
     "name": "stdout",
     "text": [
      "Epoch 1/20\n",
      "WARNING:tensorflow:Layers in a Sequential model should only have a single input tensor, but we receive a <class 'dict'> input: {'first_blood_team': <tf.Tensor 'ExpandDims:0' shape=(None, 1) dtype=int32>, 'roshan_team': <tf.Tensor 'ExpandDims_1:0' shape=(None, 1) dtype=float32>}\n",
      "Consider rewriting this model with the Functional API.\n",
      "WARNING:tensorflow:Layers in a Sequential model should only have a single input tensor, but we receive a <class 'dict'> input: {'first_blood_team': <tf.Tensor 'ExpandDims:0' shape=(None, 1) dtype=int32>, 'roshan_team': <tf.Tensor 'ExpandDims_1:0' shape=(None, 1) dtype=float32>}\n",
      "Consider rewriting this model with the Functional API.\n",
      "2084/2084 [==============================] - 1s 416us/step - loss: 0.7274 - accuracy: 0.5462 - precision: 0.5501 - recall: 0.5343\n",
      "Epoch 2/20\n",
      "2084/2084 [==============================] - 1s 415us/step - loss: 0.7274 - accuracy: 0.5462 - precision: 0.5501 - recall: 0.5343\n",
      "Epoch 3/20\n",
      "2084/2084 [==============================] - 1s 424us/step - loss: 0.7274 - accuracy: 0.5462 - precision: 0.5501 - recall: 0.5343\n",
      "Epoch 4/20\n",
      "2084/2084 [==============================] - 1s 427us/step - loss: 0.7274 - accuracy: 0.5462 - precision: 0.5501 - recall: 0.5343\n",
      "Epoch 5/20\n",
      "2084/2084 [==============================] - 1s 414us/step - loss: 0.7274 - accuracy: 0.5462 - precision: 0.5501 - recall: 0.5343\n",
      "Epoch 6/20\n",
      "2084/2084 [==============================] - 1s 419us/step - loss: 0.7274 - accuracy: 0.5462 - precision: 0.5501 - recall: 0.5343\n",
      "Epoch 7/20\n",
      "2084/2084 [==============================] - 1s 414us/step - loss: 0.7274 - accuracy: 0.5462 - precision: 0.5501 - recall: 0.5343\n",
      "Epoch 8/20\n",
      "2084/2084 [==============================] - 1s 438us/step - loss: 0.7274 - accuracy: 0.5462 - precision: 0.5501 - recall: 0.5343\n",
      "Epoch 9/20\n",
      "2084/2084 [==============================] - 1s 421us/step - loss: 0.7274 - accuracy: 0.5462 - precision: 0.5501 - recall: 0.5343\n",
      "Epoch 10/20\n",
      "2084/2084 [==============================] - 1s 436us/step - loss: 0.7274 - accuracy: 0.5462 - precision: 0.5501 - recall: 0.5343\n",
      "Epoch 11/20\n",
      "2084/2084 [==============================] - 1s 417us/step - loss: 0.7274 - accuracy: 0.5462 - precision: 0.5501 - recall: 0.5343\n",
      "Epoch 12/20\n",
      "2084/2084 [==============================] - 1s 421us/step - loss: 0.7274 - accuracy: 0.5462 - precision: 0.5501 - recall: 0.5343\n",
      "Epoch 13/20\n",
      "2084/2084 [==============================] - 1s 411us/step - loss: 0.7274 - accuracy: 0.5462 - precision: 0.5501 - recall: 0.5343\n",
      "Epoch 14/20\n",
      "2084/2084 [==============================] - 1s 413us/step - loss: 0.7274 - accuracy: 0.5462 - precision: 0.5501 - recall: 0.5343\n",
      "Epoch 15/20\n",
      "2084/2084 [==============================] - 1s 418us/step - loss: 0.7274 - accuracy: 0.5462 - precision: 0.5501 - recall: 0.5343\n",
      "Epoch 16/20\n",
      "2084/2084 [==============================] - 1s 421us/step - loss: 0.7274 - accuracy: 0.5462 - precision: 0.5501 - recall: 0.5343\n",
      "Epoch 17/20\n",
      "2084/2084 [==============================] - 1s 425us/step - loss: 0.7274 - accuracy: 0.5462 - precision: 0.5501 - recall: 0.5343\n",
      "Epoch 18/20\n",
      "2084/2084 [==============================] - 1s 442us/step - loss: 0.7274 - accuracy: 0.5462 - precision: 0.5501 - recall: 0.5343\n",
      "Epoch 19/20\n",
      "2084/2084 [==============================] - 1s 428us/step - loss: 0.7274 - accuracy: 0.5462 - precision: 0.5501 - recall: 0.5343\n",
      "Epoch 20/20\n",
      "2084/2084 [==============================] - 1s 417us/step - loss: 0.7274 - accuracy: 0.5462 - precision: 0.5501 - recall: 0.5343\n"
     ]
    },
    {
     "output_type": "execute_result",
     "data": {
      "text/plain": [
       "<matplotlib.legend.Legend at 0x2b903195cd0>"
      ]
     },
     "metadata": {},
     "execution_count": 8
    },
    {
     "output_type": "display_data",
     "data": {
      "text/plain": "<Figure size 432x288 with 1 Axes>",
      "image/svg+xml": "<?xml version=\"1.0\" encoding=\"utf-8\" standalone=\"no\"?>\r\n<!DOCTYPE svg PUBLIC \"-//W3C//DTD SVG 1.1//EN\"\r\n  \"http://www.w3.org/Graphics/SVG/1.1/DTD/svg11.dtd\">\r\n<!-- Created with matplotlib (https://matplotlib.org/) -->\r\n<svg height=\"262.19625pt\" version=\"1.1\" viewBox=\"0 0 398.50625 262.19625\" width=\"398.50625pt\" xmlns=\"http://www.w3.org/2000/svg\" xmlns:xlink=\"http://www.w3.org/1999/xlink\">\r\n <metadata>\r\n  <rdf:RDF xmlns:cc=\"http://creativecommons.org/ns#\" xmlns:dc=\"http://purl.org/dc/elements/1.1/\" xmlns:rdf=\"http://www.w3.org/1999/02/22-rdf-syntax-ns#\">\r\n   <cc:Work>\r\n    <dc:type rdf:resource=\"http://purl.org/dc/dcmitype/StillImage\"/>\r\n    <dc:date>2021-06-25T21:25:23.182893</dc:date>\r\n    <dc:format>image/svg+xml</dc:format>\r\n    <dc:creator>\r\n     <cc:Agent>\r\n      <dc:title>Matplotlib v3.3.3, https://matplotlib.org/</dc:title>\r\n     </cc:Agent>\r\n    </dc:creator>\r\n   </cc:Work>\r\n  </rdf:RDF>\r\n </metadata>\r\n <defs>\r\n  <style type=\"text/css\">*{stroke-linecap:butt;stroke-linejoin:round;}</style>\r\n </defs>\r\n <g id=\"figure_1\">\r\n  <g id=\"patch_1\">\r\n   <path d=\"M 0 262.19625 \r\nL 398.50625 262.19625 \r\nL 398.50625 0 \r\nL 0 0 \r\nz\r\n\" style=\"fill:none;\"/>\r\n  </g>\r\n  <g id=\"axes_1\">\r\n   <g id=\"patch_2\">\r\n    <path d=\"M 56.50625 224.64 \r\nL 391.30625 224.64 \r\nL 391.30625 7.2 \r\nL 56.50625 7.2 \r\nz\r\n\" style=\"fill:#ffffff;\"/>\r\n   </g>\r\n   <g id=\"matplotlib.axis_1\">\r\n    <g id=\"xtick_1\">\r\n     <g id=\"line2d_1\">\r\n      <defs>\r\n       <path d=\"M 0 0 \r\nL 0 3.5 \r\n\" id=\"m4cd69d434b\" style=\"stroke:#000000;stroke-width:0.8;\"/>\r\n      </defs>\r\n      <g>\r\n       <use style=\"stroke:#000000;stroke-width:0.8;\" x=\"97.088068\" xlink:href=\"#m4cd69d434b\" y=\"224.64\"/>\r\n      </g>\r\n     </g>\r\n     <g id=\"text_1\">\r\n      <!-- 2.5 -->\r\n      <g transform=\"translate(89.136506 239.238437)scale(0.1 -0.1)\">\r\n       <defs>\r\n        <path d=\"M 19.1875 8.296875 \r\nL 53.609375 8.296875 \r\nL 53.609375 0 \r\nL 7.328125 0 \r\nL 7.328125 8.296875 \r\nQ 12.9375 14.109375 22.625 23.890625 \r\nQ 32.328125 33.6875 34.8125 36.53125 \r\nQ 39.546875 41.84375 41.421875 45.53125 \r\nQ 43.3125 49.21875 43.3125 52.78125 \r\nQ 43.3125 58.59375 39.234375 62.25 \r\nQ 35.15625 65.921875 28.609375 65.921875 \r\nQ 23.96875 65.921875 18.8125 64.3125 \r\nQ 13.671875 62.703125 7.8125 59.421875 \r\nL 7.8125 69.390625 \r\nQ 13.765625 71.78125 18.9375 73 \r\nQ 24.125 74.21875 28.421875 74.21875 \r\nQ 39.75 74.21875 46.484375 68.546875 \r\nQ 53.21875 62.890625 53.21875 53.421875 \r\nQ 53.21875 48.921875 51.53125 44.890625 \r\nQ 49.859375 40.875 45.40625 35.40625 \r\nQ 44.1875 33.984375 37.640625 27.21875 \r\nQ 31.109375 20.453125 19.1875 8.296875 \r\nz\r\n\" id=\"DejaVuSans-50\"/>\r\n        <path d=\"M 10.6875 12.40625 \r\nL 21 12.40625 \r\nL 21 0 \r\nL 10.6875 0 \r\nz\r\n\" id=\"DejaVuSans-46\"/>\r\n        <path d=\"M 10.796875 72.90625 \r\nL 49.515625 72.90625 \r\nL 49.515625 64.59375 \r\nL 19.828125 64.59375 \r\nL 19.828125 46.734375 \r\nQ 21.96875 47.46875 24.109375 47.828125 \r\nQ 26.265625 48.1875 28.421875 48.1875 \r\nQ 40.625 48.1875 47.75 41.5 \r\nQ 54.890625 34.8125 54.890625 23.390625 \r\nQ 54.890625 11.625 47.5625 5.09375 \r\nQ 40.234375 -1.421875 26.90625 -1.421875 \r\nQ 22.3125 -1.421875 17.546875 -0.640625 \r\nQ 12.796875 0.140625 7.71875 1.703125 \r\nL 7.71875 11.625 \r\nQ 12.109375 9.234375 16.796875 8.0625 \r\nQ 21.484375 6.890625 26.703125 6.890625 \r\nQ 35.15625 6.890625 40.078125 11.328125 \r\nQ 45.015625 15.765625 45.015625 23.390625 \r\nQ 45.015625 31 40.078125 35.4375 \r\nQ 35.15625 39.890625 26.703125 39.890625 \r\nQ 22.75 39.890625 18.8125 39.015625 \r\nQ 14.890625 38.140625 10.796875 36.28125 \r\nz\r\n\" id=\"DejaVuSans-53\"/>\r\n       </defs>\r\n       <use xlink:href=\"#DejaVuSans-50\"/>\r\n       <use x=\"63.623047\" xlink:href=\"#DejaVuSans-46\"/>\r\n       <use x=\"95.410156\" xlink:href=\"#DejaVuSans-53\"/>\r\n      </g>\r\n     </g>\r\n    </g>\r\n    <g id=\"xtick_2\">\r\n     <g id=\"line2d_2\">\r\n      <g>\r\n       <use style=\"stroke:#000000;stroke-width:0.8;\" x=\"139.360795\" xlink:href=\"#m4cd69d434b\" y=\"224.64\"/>\r\n      </g>\r\n     </g>\r\n     <g id=\"text_2\">\r\n      <!-- 5.0 -->\r\n      <g transform=\"translate(131.409233 239.238437)scale(0.1 -0.1)\">\r\n       <defs>\r\n        <path d=\"M 31.78125 66.40625 \r\nQ 24.171875 66.40625 20.328125 58.90625 \r\nQ 16.5 51.421875 16.5 36.375 \r\nQ 16.5 21.390625 20.328125 13.890625 \r\nQ 24.171875 6.390625 31.78125 6.390625 \r\nQ 39.453125 6.390625 43.28125 13.890625 \r\nQ 47.125 21.390625 47.125 36.375 \r\nQ 47.125 51.421875 43.28125 58.90625 \r\nQ 39.453125 66.40625 31.78125 66.40625 \r\nz\r\nM 31.78125 74.21875 \r\nQ 44.046875 74.21875 50.515625 64.515625 \r\nQ 56.984375 54.828125 56.984375 36.375 \r\nQ 56.984375 17.96875 50.515625 8.265625 \r\nQ 44.046875 -1.421875 31.78125 -1.421875 \r\nQ 19.53125 -1.421875 13.0625 8.265625 \r\nQ 6.59375 17.96875 6.59375 36.375 \r\nQ 6.59375 54.828125 13.0625 64.515625 \r\nQ 19.53125 74.21875 31.78125 74.21875 \r\nz\r\n\" id=\"DejaVuSans-48\"/>\r\n       </defs>\r\n       <use xlink:href=\"#DejaVuSans-53\"/>\r\n       <use x=\"63.623047\" xlink:href=\"#DejaVuSans-46\"/>\r\n       <use x=\"95.410156\" xlink:href=\"#DejaVuSans-48\"/>\r\n      </g>\r\n     </g>\r\n    </g>\r\n    <g id=\"xtick_3\">\r\n     <g id=\"line2d_3\">\r\n      <g>\r\n       <use style=\"stroke:#000000;stroke-width:0.8;\" x=\"181.633523\" xlink:href=\"#m4cd69d434b\" y=\"224.64\"/>\r\n      </g>\r\n     </g>\r\n     <g id=\"text_3\">\r\n      <!-- 7.5 -->\r\n      <g transform=\"translate(173.68196 239.238437)scale(0.1 -0.1)\">\r\n       <defs>\r\n        <path d=\"M 8.203125 72.90625 \r\nL 55.078125 72.90625 \r\nL 55.078125 68.703125 \r\nL 28.609375 0 \r\nL 18.3125 0 \r\nL 43.21875 64.59375 \r\nL 8.203125 64.59375 \r\nz\r\n\" id=\"DejaVuSans-55\"/>\r\n       </defs>\r\n       <use xlink:href=\"#DejaVuSans-55\"/>\r\n       <use x=\"63.623047\" xlink:href=\"#DejaVuSans-46\"/>\r\n       <use x=\"95.410156\" xlink:href=\"#DejaVuSans-53\"/>\r\n      </g>\r\n     </g>\r\n    </g>\r\n    <g id=\"xtick_4\">\r\n     <g id=\"line2d_4\">\r\n      <g>\r\n       <use style=\"stroke:#000000;stroke-width:0.8;\" x=\"223.90625\" xlink:href=\"#m4cd69d434b\" y=\"224.64\"/>\r\n      </g>\r\n     </g>\r\n     <g id=\"text_4\">\r\n      <!-- 10.0 -->\r\n      <g transform=\"translate(212.773438 239.238437)scale(0.1 -0.1)\">\r\n       <defs>\r\n        <path d=\"M 12.40625 8.296875 \r\nL 28.515625 8.296875 \r\nL 28.515625 63.921875 \r\nL 10.984375 60.40625 \r\nL 10.984375 69.390625 \r\nL 28.421875 72.90625 \r\nL 38.28125 72.90625 \r\nL 38.28125 8.296875 \r\nL 54.390625 8.296875 \r\nL 54.390625 0 \r\nL 12.40625 0 \r\nz\r\n\" id=\"DejaVuSans-49\"/>\r\n       </defs>\r\n       <use xlink:href=\"#DejaVuSans-49\"/>\r\n       <use x=\"63.623047\" xlink:href=\"#DejaVuSans-48\"/>\r\n       <use x=\"127.246094\" xlink:href=\"#DejaVuSans-46\"/>\r\n       <use x=\"159.033203\" xlink:href=\"#DejaVuSans-48\"/>\r\n      </g>\r\n     </g>\r\n    </g>\r\n    <g id=\"xtick_5\">\r\n     <g id=\"line2d_5\">\r\n      <g>\r\n       <use style=\"stroke:#000000;stroke-width:0.8;\" x=\"266.178977\" xlink:href=\"#m4cd69d434b\" y=\"224.64\"/>\r\n      </g>\r\n     </g>\r\n     <g id=\"text_5\">\r\n      <!-- 12.5 -->\r\n      <g transform=\"translate(255.046165 239.238437)scale(0.1 -0.1)\">\r\n       <use xlink:href=\"#DejaVuSans-49\"/>\r\n       <use x=\"63.623047\" xlink:href=\"#DejaVuSans-50\"/>\r\n       <use x=\"127.246094\" xlink:href=\"#DejaVuSans-46\"/>\r\n       <use x=\"159.033203\" xlink:href=\"#DejaVuSans-53\"/>\r\n      </g>\r\n     </g>\r\n    </g>\r\n    <g id=\"xtick_6\">\r\n     <g id=\"line2d_6\">\r\n      <g>\r\n       <use style=\"stroke:#000000;stroke-width:0.8;\" x=\"308.451705\" xlink:href=\"#m4cd69d434b\" y=\"224.64\"/>\r\n      </g>\r\n     </g>\r\n     <g id=\"text_6\">\r\n      <!-- 15.0 -->\r\n      <g transform=\"translate(297.318892 239.238437)scale(0.1 -0.1)\">\r\n       <use xlink:href=\"#DejaVuSans-49\"/>\r\n       <use x=\"63.623047\" xlink:href=\"#DejaVuSans-53\"/>\r\n       <use x=\"127.246094\" xlink:href=\"#DejaVuSans-46\"/>\r\n       <use x=\"159.033203\" xlink:href=\"#DejaVuSans-48\"/>\r\n      </g>\r\n     </g>\r\n    </g>\r\n    <g id=\"xtick_7\">\r\n     <g id=\"line2d_7\">\r\n      <g>\r\n       <use style=\"stroke:#000000;stroke-width:0.8;\" x=\"350.724432\" xlink:href=\"#m4cd69d434b\" y=\"224.64\"/>\r\n      </g>\r\n     </g>\r\n     <g id=\"text_7\">\r\n      <!-- 17.5 -->\r\n      <g transform=\"translate(339.591619 239.238437)scale(0.1 -0.1)\">\r\n       <use xlink:href=\"#DejaVuSans-49\"/>\r\n       <use x=\"63.623047\" xlink:href=\"#DejaVuSans-55\"/>\r\n       <use x=\"127.246094\" xlink:href=\"#DejaVuSans-46\"/>\r\n       <use x=\"159.033203\" xlink:href=\"#DejaVuSans-53\"/>\r\n      </g>\r\n     </g>\r\n    </g>\r\n    <g id=\"text_8\">\r\n     <!-- Epoch -->\r\n     <g transform=\"translate(208.595313 252.916562)scale(0.1 -0.1)\">\r\n      <defs>\r\n       <path d=\"M 9.8125 72.90625 \r\nL 55.90625 72.90625 \r\nL 55.90625 64.59375 \r\nL 19.671875 64.59375 \r\nL 19.671875 43.015625 \r\nL 54.390625 43.015625 \r\nL 54.390625 34.71875 \r\nL 19.671875 34.71875 \r\nL 19.671875 8.296875 \r\nL 56.78125 8.296875 \r\nL 56.78125 0 \r\nL 9.8125 0 \r\nz\r\n\" id=\"DejaVuSans-69\"/>\r\n       <path d=\"M 18.109375 8.203125 \r\nL 18.109375 -20.796875 \r\nL 9.078125 -20.796875 \r\nL 9.078125 54.6875 \r\nL 18.109375 54.6875 \r\nL 18.109375 46.390625 \r\nQ 20.953125 51.265625 25.265625 53.625 \r\nQ 29.59375 56 35.59375 56 \r\nQ 45.5625 56 51.78125 48.09375 \r\nQ 58.015625 40.1875 58.015625 27.296875 \r\nQ 58.015625 14.40625 51.78125 6.484375 \r\nQ 45.5625 -1.421875 35.59375 -1.421875 \r\nQ 29.59375 -1.421875 25.265625 0.953125 \r\nQ 20.953125 3.328125 18.109375 8.203125 \r\nz\r\nM 48.6875 27.296875 \r\nQ 48.6875 37.203125 44.609375 42.84375 \r\nQ 40.53125 48.484375 33.40625 48.484375 \r\nQ 26.265625 48.484375 22.1875 42.84375 \r\nQ 18.109375 37.203125 18.109375 27.296875 \r\nQ 18.109375 17.390625 22.1875 11.75 \r\nQ 26.265625 6.109375 33.40625 6.109375 \r\nQ 40.53125 6.109375 44.609375 11.75 \r\nQ 48.6875 17.390625 48.6875 27.296875 \r\nz\r\n\" id=\"DejaVuSans-112\"/>\r\n       <path d=\"M 30.609375 48.390625 \r\nQ 23.390625 48.390625 19.1875 42.75 \r\nQ 14.984375 37.109375 14.984375 27.296875 \r\nQ 14.984375 17.484375 19.15625 11.84375 \r\nQ 23.34375 6.203125 30.609375 6.203125 \r\nQ 37.796875 6.203125 41.984375 11.859375 \r\nQ 46.1875 17.53125 46.1875 27.296875 \r\nQ 46.1875 37.015625 41.984375 42.703125 \r\nQ 37.796875 48.390625 30.609375 48.390625 \r\nz\r\nM 30.609375 56 \r\nQ 42.328125 56 49.015625 48.375 \r\nQ 55.71875 40.765625 55.71875 27.296875 \r\nQ 55.71875 13.875 49.015625 6.21875 \r\nQ 42.328125 -1.421875 30.609375 -1.421875 \r\nQ 18.84375 -1.421875 12.171875 6.21875 \r\nQ 5.515625 13.875 5.515625 27.296875 \r\nQ 5.515625 40.765625 12.171875 48.375 \r\nQ 18.84375 56 30.609375 56 \r\nz\r\n\" id=\"DejaVuSans-111\"/>\r\n       <path d=\"M 48.78125 52.59375 \r\nL 48.78125 44.1875 \r\nQ 44.96875 46.296875 41.140625 47.34375 \r\nQ 37.3125 48.390625 33.40625 48.390625 \r\nQ 24.65625 48.390625 19.8125 42.84375 \r\nQ 14.984375 37.3125 14.984375 27.296875 \r\nQ 14.984375 17.28125 19.8125 11.734375 \r\nQ 24.65625 6.203125 33.40625 6.203125 \r\nQ 37.3125 6.203125 41.140625 7.25 \r\nQ 44.96875 8.296875 48.78125 10.40625 \r\nL 48.78125 2.09375 \r\nQ 45.015625 0.34375 40.984375 -0.53125 \r\nQ 36.96875 -1.421875 32.421875 -1.421875 \r\nQ 20.0625 -1.421875 12.78125 6.34375 \r\nQ 5.515625 14.109375 5.515625 27.296875 \r\nQ 5.515625 40.671875 12.859375 48.328125 \r\nQ 20.21875 56 33.015625 56 \r\nQ 37.15625 56 41.109375 55.140625 \r\nQ 45.0625 54.296875 48.78125 52.59375 \r\nz\r\n\" id=\"DejaVuSans-99\"/>\r\n       <path d=\"M 54.890625 33.015625 \r\nL 54.890625 0 \r\nL 45.90625 0 \r\nL 45.90625 32.71875 \r\nQ 45.90625 40.484375 42.875 44.328125 \r\nQ 39.84375 48.1875 33.796875 48.1875 \r\nQ 26.515625 48.1875 22.3125 43.546875 \r\nQ 18.109375 38.921875 18.109375 30.90625 \r\nL 18.109375 0 \r\nL 9.078125 0 \r\nL 9.078125 75.984375 \r\nL 18.109375 75.984375 \r\nL 18.109375 46.1875 \r\nQ 21.34375 51.125 25.703125 53.5625 \r\nQ 30.078125 56 35.796875 56 \r\nQ 45.21875 56 50.046875 50.171875 \r\nQ 54.890625 44.34375 54.890625 33.015625 \r\nz\r\n\" id=\"DejaVuSans-104\"/>\r\n      </defs>\r\n      <use xlink:href=\"#DejaVuSans-69\"/>\r\n      <use x=\"63.183594\" xlink:href=\"#DejaVuSans-112\"/>\r\n      <use x=\"126.660156\" xlink:href=\"#DejaVuSans-111\"/>\r\n      <use x=\"187.841797\" xlink:href=\"#DejaVuSans-99\"/>\r\n      <use x=\"242.822266\" xlink:href=\"#DejaVuSans-104\"/>\r\n     </g>\r\n    </g>\r\n   </g>\r\n   <g id=\"matplotlib.axis_2\">\r\n    <g id=\"ytick_1\">\r\n     <g id=\"line2d_8\">\r\n      <defs>\r\n       <path d=\"M 0 0 \r\nL -3.5 0 \r\n\" id=\"m870e52e0f1\" style=\"stroke:#000000;stroke-width:0.8;\"/>\r\n      </defs>\r\n      <g>\r\n       <use style=\"stroke:#000000;stroke-width:0.8;\" x=\"56.50625\" xlink:href=\"#m870e52e0f1\" y=\"219.028592\"/>\r\n      </g>\r\n     </g>\r\n     <g id=\"text_9\">\r\n      <!-- 0.534 -->\r\n      <g transform=\"translate(20.878125 222.82781)scale(0.1 -0.1)\">\r\n       <defs>\r\n        <path d=\"M 40.578125 39.3125 \r\nQ 47.65625 37.796875 51.625 33 \r\nQ 55.609375 28.21875 55.609375 21.1875 \r\nQ 55.609375 10.40625 48.1875 4.484375 \r\nQ 40.765625 -1.421875 27.09375 -1.421875 \r\nQ 22.515625 -1.421875 17.65625 -0.515625 \r\nQ 12.796875 0.390625 7.625 2.203125 \r\nL 7.625 11.71875 \r\nQ 11.71875 9.328125 16.59375 8.109375 \r\nQ 21.484375 6.890625 26.8125 6.890625 \r\nQ 36.078125 6.890625 40.9375 10.546875 \r\nQ 45.796875 14.203125 45.796875 21.1875 \r\nQ 45.796875 27.640625 41.28125 31.265625 \r\nQ 36.765625 34.90625 28.71875 34.90625 \r\nL 20.21875 34.90625 \r\nL 20.21875 43.015625 \r\nL 29.109375 43.015625 \r\nQ 36.375 43.015625 40.234375 45.921875 \r\nQ 44.09375 48.828125 44.09375 54.296875 \r\nQ 44.09375 59.90625 40.109375 62.90625 \r\nQ 36.140625 65.921875 28.71875 65.921875 \r\nQ 24.65625 65.921875 20.015625 65.03125 \r\nQ 15.375 64.15625 9.8125 62.3125 \r\nL 9.8125 71.09375 \r\nQ 15.4375 72.65625 20.34375 73.4375 \r\nQ 25.25 74.21875 29.59375 74.21875 \r\nQ 40.828125 74.21875 47.359375 69.109375 \r\nQ 53.90625 64.015625 53.90625 55.328125 \r\nQ 53.90625 49.265625 50.4375 45.09375 \r\nQ 46.96875 40.921875 40.578125 39.3125 \r\nz\r\n\" id=\"DejaVuSans-51\"/>\r\n        <path d=\"M 37.796875 64.3125 \r\nL 12.890625 25.390625 \r\nL 37.796875 25.390625 \r\nz\r\nM 35.203125 72.90625 \r\nL 47.609375 72.90625 \r\nL 47.609375 25.390625 \r\nL 58.015625 25.390625 \r\nL 58.015625 17.1875 \r\nL 47.609375 17.1875 \r\nL 47.609375 0 \r\nL 37.796875 0 \r\nL 37.796875 17.1875 \r\nL 4.890625 17.1875 \r\nL 4.890625 26.703125 \r\nz\r\n\" id=\"DejaVuSans-52\"/>\r\n       </defs>\r\n       <use xlink:href=\"#DejaVuSans-48\"/>\r\n       <use x=\"63.623047\" xlink:href=\"#DejaVuSans-46\"/>\r\n       <use x=\"95.410156\" xlink:href=\"#DejaVuSans-53\"/>\r\n       <use x=\"159.033203\" xlink:href=\"#DejaVuSans-51\"/>\r\n       <use x=\"222.65625\" xlink:href=\"#DejaVuSans-52\"/>\r\n      </g>\r\n     </g>\r\n    </g>\r\n    <g id=\"ytick_2\">\r\n     <g id=\"line2d_9\">\r\n      <g>\r\n       <use style=\"stroke:#000000;stroke-width:0.8;\" x=\"56.50625\" xlink:href=\"#m870e52e0f1\" y=\"193.88198\"/>\r\n      </g>\r\n     </g>\r\n     <g id=\"text_10\">\r\n      <!-- 0.536 -->\r\n      <g transform=\"translate(20.878125 197.681198)scale(0.1 -0.1)\">\r\n       <defs>\r\n        <path d=\"M 33.015625 40.375 \r\nQ 26.375 40.375 22.484375 35.828125 \r\nQ 18.609375 31.296875 18.609375 23.390625 \r\nQ 18.609375 15.53125 22.484375 10.953125 \r\nQ 26.375 6.390625 33.015625 6.390625 \r\nQ 39.65625 6.390625 43.53125 10.953125 \r\nQ 47.40625 15.53125 47.40625 23.390625 \r\nQ 47.40625 31.296875 43.53125 35.828125 \r\nQ 39.65625 40.375 33.015625 40.375 \r\nz\r\nM 52.59375 71.296875 \r\nL 52.59375 62.3125 \r\nQ 48.875 64.0625 45.09375 64.984375 \r\nQ 41.3125 65.921875 37.59375 65.921875 \r\nQ 27.828125 65.921875 22.671875 59.328125 \r\nQ 17.53125 52.734375 16.796875 39.40625 \r\nQ 19.671875 43.65625 24.015625 45.921875 \r\nQ 28.375 48.1875 33.59375 48.1875 \r\nQ 44.578125 48.1875 50.953125 41.515625 \r\nQ 57.328125 34.859375 57.328125 23.390625 \r\nQ 57.328125 12.15625 50.6875 5.359375 \r\nQ 44.046875 -1.421875 33.015625 -1.421875 \r\nQ 20.359375 -1.421875 13.671875 8.265625 \r\nQ 6.984375 17.96875 6.984375 36.375 \r\nQ 6.984375 53.65625 15.1875 63.9375 \r\nQ 23.390625 74.21875 37.203125 74.21875 \r\nQ 40.921875 74.21875 44.703125 73.484375 \r\nQ 48.484375 72.75 52.59375 71.296875 \r\nz\r\n\" id=\"DejaVuSans-54\"/>\r\n       </defs>\r\n       <use xlink:href=\"#DejaVuSans-48\"/>\r\n       <use x=\"63.623047\" xlink:href=\"#DejaVuSans-46\"/>\r\n       <use x=\"95.410156\" xlink:href=\"#DejaVuSans-53\"/>\r\n       <use x=\"159.033203\" xlink:href=\"#DejaVuSans-51\"/>\r\n       <use x=\"222.65625\" xlink:href=\"#DejaVuSans-54\"/>\r\n      </g>\r\n     </g>\r\n    </g>\r\n    <g id=\"ytick_3\">\r\n     <g id=\"line2d_10\">\r\n      <g>\r\n       <use style=\"stroke:#000000;stroke-width:0.8;\" x=\"56.50625\" xlink:href=\"#m870e52e0f1\" y=\"168.735368\"/>\r\n      </g>\r\n     </g>\r\n     <g id=\"text_11\">\r\n      <!-- 0.538 -->\r\n      <g transform=\"translate(20.878125 172.534587)scale(0.1 -0.1)\">\r\n       <defs>\r\n        <path d=\"M 31.78125 34.625 \r\nQ 24.75 34.625 20.71875 30.859375 \r\nQ 16.703125 27.09375 16.703125 20.515625 \r\nQ 16.703125 13.921875 20.71875 10.15625 \r\nQ 24.75 6.390625 31.78125 6.390625 \r\nQ 38.8125 6.390625 42.859375 10.171875 \r\nQ 46.921875 13.96875 46.921875 20.515625 \r\nQ 46.921875 27.09375 42.890625 30.859375 \r\nQ 38.875 34.625 31.78125 34.625 \r\nz\r\nM 21.921875 38.8125 \r\nQ 15.578125 40.375 12.03125 44.71875 \r\nQ 8.5 49.078125 8.5 55.328125 \r\nQ 8.5 64.0625 14.71875 69.140625 \r\nQ 20.953125 74.21875 31.78125 74.21875 \r\nQ 42.671875 74.21875 48.875 69.140625 \r\nQ 55.078125 64.0625 55.078125 55.328125 \r\nQ 55.078125 49.078125 51.53125 44.71875 \r\nQ 48 40.375 41.703125 38.8125 \r\nQ 48.828125 37.15625 52.796875 32.3125 \r\nQ 56.78125 27.484375 56.78125 20.515625 \r\nQ 56.78125 9.90625 50.3125 4.234375 \r\nQ 43.84375 -1.421875 31.78125 -1.421875 \r\nQ 19.734375 -1.421875 13.25 4.234375 \r\nQ 6.78125 9.90625 6.78125 20.515625 \r\nQ 6.78125 27.484375 10.78125 32.3125 \r\nQ 14.796875 37.15625 21.921875 38.8125 \r\nz\r\nM 18.3125 54.390625 \r\nQ 18.3125 48.734375 21.84375 45.5625 \r\nQ 25.390625 42.390625 31.78125 42.390625 \r\nQ 38.140625 42.390625 41.71875 45.5625 \r\nQ 45.3125 48.734375 45.3125 54.390625 \r\nQ 45.3125 60.0625 41.71875 63.234375 \r\nQ 38.140625 66.40625 31.78125 66.40625 \r\nQ 25.390625 66.40625 21.84375 63.234375 \r\nQ 18.3125 60.0625 18.3125 54.390625 \r\nz\r\n\" id=\"DejaVuSans-56\"/>\r\n       </defs>\r\n       <use xlink:href=\"#DejaVuSans-48\"/>\r\n       <use x=\"63.623047\" xlink:href=\"#DejaVuSans-46\"/>\r\n       <use x=\"95.410156\" xlink:href=\"#DejaVuSans-53\"/>\r\n       <use x=\"159.033203\" xlink:href=\"#DejaVuSans-51\"/>\r\n       <use x=\"222.65625\" xlink:href=\"#DejaVuSans-56\"/>\r\n      </g>\r\n     </g>\r\n    </g>\r\n    <g id=\"ytick_4\">\r\n     <g id=\"line2d_11\">\r\n      <g>\r\n       <use style=\"stroke:#000000;stroke-width:0.8;\" x=\"56.50625\" xlink:href=\"#m870e52e0f1\" y=\"143.588756\"/>\r\n      </g>\r\n     </g>\r\n     <g id=\"text_12\">\r\n      <!-- 0.540 -->\r\n      <g transform=\"translate(20.878125 147.387975)scale(0.1 -0.1)\">\r\n       <use xlink:href=\"#DejaVuSans-48\"/>\r\n       <use x=\"63.623047\" xlink:href=\"#DejaVuSans-46\"/>\r\n       <use x=\"95.410156\" xlink:href=\"#DejaVuSans-53\"/>\r\n       <use x=\"159.033203\" xlink:href=\"#DejaVuSans-52\"/>\r\n       <use x=\"222.65625\" xlink:href=\"#DejaVuSans-48\"/>\r\n      </g>\r\n     </g>\r\n    </g>\r\n    <g id=\"ytick_5\">\r\n     <g id=\"line2d_12\">\r\n      <g>\r\n       <use style=\"stroke:#000000;stroke-width:0.8;\" x=\"56.50625\" xlink:href=\"#m870e52e0f1\" y=\"118.442144\"/>\r\n      </g>\r\n     </g>\r\n     <g id=\"text_13\">\r\n      <!-- 0.542 -->\r\n      <g transform=\"translate(20.878125 122.241363)scale(0.1 -0.1)\">\r\n       <use xlink:href=\"#DejaVuSans-48\"/>\r\n       <use x=\"63.623047\" xlink:href=\"#DejaVuSans-46\"/>\r\n       <use x=\"95.410156\" xlink:href=\"#DejaVuSans-53\"/>\r\n       <use x=\"159.033203\" xlink:href=\"#DejaVuSans-52\"/>\r\n       <use x=\"222.65625\" xlink:href=\"#DejaVuSans-50\"/>\r\n      </g>\r\n     </g>\r\n    </g>\r\n    <g id=\"ytick_6\">\r\n     <g id=\"line2d_13\">\r\n      <g>\r\n       <use style=\"stroke:#000000;stroke-width:0.8;\" x=\"56.50625\" xlink:href=\"#m870e52e0f1\" y=\"93.295532\"/>\r\n      </g>\r\n     </g>\r\n     <g id=\"text_14\">\r\n      <!-- 0.544 -->\r\n      <g transform=\"translate(20.878125 97.094751)scale(0.1 -0.1)\">\r\n       <use xlink:href=\"#DejaVuSans-48\"/>\r\n       <use x=\"63.623047\" xlink:href=\"#DejaVuSans-46\"/>\r\n       <use x=\"95.410156\" xlink:href=\"#DejaVuSans-53\"/>\r\n       <use x=\"159.033203\" xlink:href=\"#DejaVuSans-52\"/>\r\n       <use x=\"222.65625\" xlink:href=\"#DejaVuSans-52\"/>\r\n      </g>\r\n     </g>\r\n    </g>\r\n    <g id=\"ytick_7\">\r\n     <g id=\"line2d_14\">\r\n      <g>\r\n       <use style=\"stroke:#000000;stroke-width:0.8;\" x=\"56.50625\" xlink:href=\"#m870e52e0f1\" y=\"68.14892\"/>\r\n      </g>\r\n     </g>\r\n     <g id=\"text_15\">\r\n      <!-- 0.546 -->\r\n      <g transform=\"translate(20.878125 71.948139)scale(0.1 -0.1)\">\r\n       <use xlink:href=\"#DejaVuSans-48\"/>\r\n       <use x=\"63.623047\" xlink:href=\"#DejaVuSans-46\"/>\r\n       <use x=\"95.410156\" xlink:href=\"#DejaVuSans-53\"/>\r\n       <use x=\"159.033203\" xlink:href=\"#DejaVuSans-52\"/>\r\n       <use x=\"222.65625\" xlink:href=\"#DejaVuSans-54\"/>\r\n      </g>\r\n     </g>\r\n    </g>\r\n    <g id=\"ytick_8\">\r\n     <g id=\"line2d_15\">\r\n      <g>\r\n       <use style=\"stroke:#000000;stroke-width:0.8;\" x=\"56.50625\" xlink:href=\"#m870e52e0f1\" y=\"43.002308\"/>\r\n      </g>\r\n     </g>\r\n     <g id=\"text_16\">\r\n      <!-- 0.548 -->\r\n      <g transform=\"translate(20.878125 46.801527)scale(0.1 -0.1)\">\r\n       <use xlink:href=\"#DejaVuSans-48\"/>\r\n       <use x=\"63.623047\" xlink:href=\"#DejaVuSans-46\"/>\r\n       <use x=\"95.410156\" xlink:href=\"#DejaVuSans-53\"/>\r\n       <use x=\"159.033203\" xlink:href=\"#DejaVuSans-52\"/>\r\n       <use x=\"222.65625\" xlink:href=\"#DejaVuSans-56\"/>\r\n      </g>\r\n     </g>\r\n    </g>\r\n    <g id=\"ytick_9\">\r\n     <g id=\"line2d_16\">\r\n      <g>\r\n       <use style=\"stroke:#000000;stroke-width:0.8;\" x=\"56.50625\" xlink:href=\"#m870e52e0f1\" y=\"17.855697\"/>\r\n      </g>\r\n     </g>\r\n     <g id=\"text_17\">\r\n      <!-- 0.550 -->\r\n      <g transform=\"translate(20.878125 21.654915)scale(0.1 -0.1)\">\r\n       <use xlink:href=\"#DejaVuSans-48\"/>\r\n       <use x=\"63.623047\" xlink:href=\"#DejaVuSans-46\"/>\r\n       <use x=\"95.410156\" xlink:href=\"#DejaVuSans-53\"/>\r\n       <use x=\"159.033203\" xlink:href=\"#DejaVuSans-53\"/>\r\n       <use x=\"222.65625\" xlink:href=\"#DejaVuSans-48\"/>\r\n      </g>\r\n     </g>\r\n    </g>\r\n    <g id=\"text_18\">\r\n     <!-- Value -->\r\n     <g transform=\"translate(14.798438 129.65125)rotate(-90)scale(0.1 -0.1)\">\r\n      <defs>\r\n       <path d=\"M 28.609375 0 \r\nL 0.78125 72.90625 \r\nL 11.078125 72.90625 \r\nL 34.1875 11.53125 \r\nL 57.328125 72.90625 \r\nL 67.578125 72.90625 \r\nL 39.796875 0 \r\nz\r\n\" id=\"DejaVuSans-86\"/>\r\n       <path d=\"M 34.28125 27.484375 \r\nQ 23.390625 27.484375 19.1875 25 \r\nQ 14.984375 22.515625 14.984375 16.5 \r\nQ 14.984375 11.71875 18.140625 8.90625 \r\nQ 21.296875 6.109375 26.703125 6.109375 \r\nQ 34.1875 6.109375 38.703125 11.40625 \r\nQ 43.21875 16.703125 43.21875 25.484375 \r\nL 43.21875 27.484375 \r\nz\r\nM 52.203125 31.203125 \r\nL 52.203125 0 \r\nL 43.21875 0 \r\nL 43.21875 8.296875 \r\nQ 40.140625 3.328125 35.546875 0.953125 \r\nQ 30.953125 -1.421875 24.3125 -1.421875 \r\nQ 15.921875 -1.421875 10.953125 3.296875 \r\nQ 6 8.015625 6 15.921875 \r\nQ 6 25.140625 12.171875 29.828125 \r\nQ 18.359375 34.515625 30.609375 34.515625 \r\nL 43.21875 34.515625 \r\nL 43.21875 35.40625 \r\nQ 43.21875 41.609375 39.140625 45 \r\nQ 35.0625 48.390625 27.6875 48.390625 \r\nQ 23 48.390625 18.546875 47.265625 \r\nQ 14.109375 46.140625 10.015625 43.890625 \r\nL 10.015625 52.203125 \r\nQ 14.9375 54.109375 19.578125 55.046875 \r\nQ 24.21875 56 28.609375 56 \r\nQ 40.484375 56 46.34375 49.84375 \r\nQ 52.203125 43.703125 52.203125 31.203125 \r\nz\r\n\" id=\"DejaVuSans-97\"/>\r\n       <path d=\"M 9.421875 75.984375 \r\nL 18.40625 75.984375 \r\nL 18.40625 0 \r\nL 9.421875 0 \r\nz\r\n\" id=\"DejaVuSans-108\"/>\r\n       <path d=\"M 8.5 21.578125 \r\nL 8.5 54.6875 \r\nL 17.484375 54.6875 \r\nL 17.484375 21.921875 \r\nQ 17.484375 14.15625 20.5 10.265625 \r\nQ 23.53125 6.390625 29.59375 6.390625 \r\nQ 36.859375 6.390625 41.078125 11.03125 \r\nQ 45.3125 15.671875 45.3125 23.6875 \r\nL 45.3125 54.6875 \r\nL 54.296875 54.6875 \r\nL 54.296875 0 \r\nL 45.3125 0 \r\nL 45.3125 8.40625 \r\nQ 42.046875 3.421875 37.71875 1 \r\nQ 33.40625 -1.421875 27.6875 -1.421875 \r\nQ 18.265625 -1.421875 13.375 4.4375 \r\nQ 8.5 10.296875 8.5 21.578125 \r\nz\r\nM 31.109375 56 \r\nz\r\n\" id=\"DejaVuSans-117\"/>\r\n       <path d=\"M 56.203125 29.59375 \r\nL 56.203125 25.203125 \r\nL 14.890625 25.203125 \r\nQ 15.484375 15.921875 20.484375 11.0625 \r\nQ 25.484375 6.203125 34.421875 6.203125 \r\nQ 39.59375 6.203125 44.453125 7.46875 \r\nQ 49.3125 8.734375 54.109375 11.28125 \r\nL 54.109375 2.78125 \r\nQ 49.265625 0.734375 44.1875 -0.34375 \r\nQ 39.109375 -1.421875 33.890625 -1.421875 \r\nQ 20.796875 -1.421875 13.15625 6.1875 \r\nQ 5.515625 13.8125 5.515625 26.8125 \r\nQ 5.515625 40.234375 12.765625 48.109375 \r\nQ 20.015625 56 32.328125 56 \r\nQ 43.359375 56 49.78125 48.890625 \r\nQ 56.203125 41.796875 56.203125 29.59375 \r\nz\r\nM 47.21875 32.234375 \r\nQ 47.125 39.59375 43.09375 43.984375 \r\nQ 39.0625 48.390625 32.421875 48.390625 \r\nQ 24.90625 48.390625 20.390625 44.140625 \r\nQ 15.875 39.890625 15.1875 32.171875 \r\nz\r\n\" id=\"DejaVuSans-101\"/>\r\n      </defs>\r\n      <use xlink:href=\"#DejaVuSans-86\"/>\r\n      <use x=\"60.658203\" xlink:href=\"#DejaVuSans-97\"/>\r\n      <use x=\"121.9375\" xlink:href=\"#DejaVuSans-108\"/>\r\n      <use x=\"149.720703\" xlink:href=\"#DejaVuSans-117\"/>\r\n      <use x=\"213.099609\" xlink:href=\"#DejaVuSans-101\"/>\r\n     </g>\r\n    </g>\r\n   </g>\r\n   <g id=\"line2d_17\">\r\n    <path clip-path=\"url(#p9747af8d71)\" d=\"M 71.724432 65.031254 \r\nL 88.633523 65.031254 \r\nL 105.542614 65.031254 \r\nL 122.451705 65.031254 \r\nL 139.360795 65.031254 \r\nL 156.269886 65.031254 \r\nL 173.178977 65.031254 \r\nL 190.088068 65.031254 \r\nL 206.997159 65.031254 \r\nL 223.90625 65.031254 \r\nL 240.815341 65.031254 \r\nL 257.724432 65.031254 \r\nL 274.633523 65.031254 \r\nL 291.542614 65.031254 \r\nL 308.451705 65.031254 \r\nL 325.360795 65.031254 \r\nL 342.269886 65.031254 \r\nL 359.178977 65.031254 \r\nL 376.088068 65.031254 \r\n\" style=\"fill:none;stroke:#1f77b4;stroke-linecap:square;stroke-width:1.5;\"/>\r\n   </g>\r\n   <g id=\"line2d_18\">\r\n    <path clip-path=\"url(#p9747af8d71)\" d=\"M 71.724432 17.083636 \r\nL 88.633523 17.083636 \r\nL 105.542614 17.083636 \r\nL 122.451705 17.083636 \r\nL 139.360795 17.083636 \r\nL 156.269886 17.083636 \r\nL 173.178977 17.083636 \r\nL 190.088068 17.083636 \r\nL 206.997159 17.083636 \r\nL 223.90625 17.083636 \r\nL 240.815341 17.083636 \r\nL 257.724432 17.083636 \r\nL 274.633523 17.083636 \r\nL 291.542614 17.083636 \r\nL 308.451705 17.083636 \r\nL 325.360795 17.083636 \r\nL 342.269886 17.083636 \r\nL 359.178977 17.083636 \r\nL 376.088068 17.083636 \r\n\" style=\"fill:none;stroke:#ff7f0e;stroke-linecap:square;stroke-width:1.5;\"/>\r\n   </g>\r\n   <g id=\"line2d_19\">\r\n    <path clip-path=\"url(#p9747af8d71)\" d=\"M 71.724432 214.756364 \r\nL 88.633523 214.756364 \r\nL 105.542614 214.756364 \r\nL 122.451705 214.756364 \r\nL 139.360795 214.756364 \r\nL 156.269886 214.756364 \r\nL 173.178977 214.756364 \r\nL 190.088068 214.756364 \r\nL 206.997159 214.756364 \r\nL 223.90625 214.756364 \r\nL 240.815341 214.756364 \r\nL 257.724432 214.756364 \r\nL 274.633523 214.756364 \r\nL 291.542614 214.756364 \r\nL 308.451705 214.756364 \r\nL 325.360795 214.756364 \r\nL 342.269886 214.756364 \r\nL 359.178977 214.756364 \r\nL 376.088068 214.756364 \r\n\" style=\"fill:none;stroke:#2ca02c;stroke-linecap:square;stroke-width:1.5;\"/>\r\n   </g>\r\n   <g id=\"patch_3\">\r\n    <path d=\"M 56.50625 224.64 \r\nL 56.50625 7.2 \r\n\" style=\"fill:none;stroke:#000000;stroke-linecap:square;stroke-linejoin:miter;stroke-width:0.8;\"/>\r\n   </g>\r\n   <g id=\"patch_4\">\r\n    <path d=\"M 391.30625 224.64 \r\nL 391.30625 7.2 \r\n\" style=\"fill:none;stroke:#000000;stroke-linecap:square;stroke-linejoin:miter;stroke-width:0.8;\"/>\r\n   </g>\r\n   <g id=\"patch_5\">\r\n    <path d=\"M 56.50625 224.64 \r\nL 391.30625 224.64 \r\n\" style=\"fill:none;stroke:#000000;stroke-linecap:square;stroke-linejoin:miter;stroke-width:0.8;\"/>\r\n   </g>\r\n   <g id=\"patch_6\">\r\n    <path d=\"M 56.50625 7.2 \r\nL 391.30625 7.2 \r\n\" style=\"fill:none;stroke:#000000;stroke-linecap:square;stroke-linejoin:miter;stroke-width:0.8;\"/>\r\n   </g>\r\n   <g id=\"legend_1\">\r\n    <g id=\"patch_7\">\r\n     <path d=\"M 307.1875 139.437187 \r\nL 384.30625 139.437187 \r\nQ 386.30625 139.437187 386.30625 137.437187 \r\nL 386.30625 94.402812 \r\nQ 386.30625 92.402812 384.30625 92.402812 \r\nL 307.1875 92.402812 \r\nQ 305.1875 92.402812 305.1875 94.402812 \r\nL 305.1875 137.437187 \r\nQ 305.1875 139.437187 307.1875 139.437187 \r\nz\r\n\" style=\"fill:#ffffff;opacity:0.8;stroke:#cccccc;stroke-linejoin:miter;\"/>\r\n    </g>\r\n    <g id=\"line2d_20\">\r\n     <path d=\"M 309.1875 100.50125 \r\nL 329.1875 100.50125 \r\n\" style=\"fill:none;stroke:#1f77b4;stroke-linecap:square;stroke-width:1.5;\"/>\r\n    </g>\r\n    <g id=\"line2d_21\"/>\r\n    <g id=\"text_19\">\r\n     <!-- accuracy -->\r\n     <g transform=\"translate(337.1875 104.00125)scale(0.1 -0.1)\">\r\n      <defs>\r\n       <path d=\"M 41.109375 46.296875 \r\nQ 39.59375 47.171875 37.8125 47.578125 \r\nQ 36.03125 48 33.890625 48 \r\nQ 26.265625 48 22.1875 43.046875 \r\nQ 18.109375 38.09375 18.109375 28.8125 \r\nL 18.109375 0 \r\nL 9.078125 0 \r\nL 9.078125 54.6875 \r\nL 18.109375 54.6875 \r\nL 18.109375 46.1875 \r\nQ 20.953125 51.171875 25.484375 53.578125 \r\nQ 30.03125 56 36.53125 56 \r\nQ 37.453125 56 38.578125 55.875 \r\nQ 39.703125 55.765625 41.0625 55.515625 \r\nz\r\n\" id=\"DejaVuSans-114\"/>\r\n       <path d=\"M 32.171875 -5.078125 \r\nQ 28.375 -14.84375 24.75 -17.8125 \r\nQ 21.140625 -20.796875 15.09375 -20.796875 \r\nL 7.90625 -20.796875 \r\nL 7.90625 -13.28125 \r\nL 13.1875 -13.28125 \r\nQ 16.890625 -13.28125 18.9375 -11.515625 \r\nQ 21 -9.765625 23.484375 -3.21875 \r\nL 25.09375 0.875 \r\nL 2.984375 54.6875 \r\nL 12.5 54.6875 \r\nL 29.59375 11.921875 \r\nL 46.6875 54.6875 \r\nL 56.203125 54.6875 \r\nz\r\n\" id=\"DejaVuSans-121\"/>\r\n      </defs>\r\n      <use xlink:href=\"#DejaVuSans-97\"/>\r\n      <use x=\"61.279297\" xlink:href=\"#DejaVuSans-99\"/>\r\n      <use x=\"116.259766\" xlink:href=\"#DejaVuSans-99\"/>\r\n      <use x=\"171.240234\" xlink:href=\"#DejaVuSans-117\"/>\r\n      <use x=\"234.619141\" xlink:href=\"#DejaVuSans-114\"/>\r\n      <use x=\"275.732422\" xlink:href=\"#DejaVuSans-97\"/>\r\n      <use x=\"337.011719\" xlink:href=\"#DejaVuSans-99\"/>\r\n      <use x=\"391.992188\" xlink:href=\"#DejaVuSans-121\"/>\r\n     </g>\r\n    </g>\r\n    <g id=\"line2d_22\">\r\n     <path d=\"M 309.1875 115.179375 \r\nL 329.1875 115.179375 \r\n\" style=\"fill:none;stroke:#ff7f0e;stroke-linecap:square;stroke-width:1.5;\"/>\r\n    </g>\r\n    <g id=\"line2d_23\"/>\r\n    <g id=\"text_20\">\r\n     <!-- precision -->\r\n     <g transform=\"translate(337.1875 118.679375)scale(0.1 -0.1)\">\r\n      <defs>\r\n       <path d=\"M 9.421875 54.6875 \r\nL 18.40625 54.6875 \r\nL 18.40625 0 \r\nL 9.421875 0 \r\nz\r\nM 9.421875 75.984375 \r\nL 18.40625 75.984375 \r\nL 18.40625 64.59375 \r\nL 9.421875 64.59375 \r\nz\r\n\" id=\"DejaVuSans-105\"/>\r\n       <path d=\"M 44.28125 53.078125 \r\nL 44.28125 44.578125 \r\nQ 40.484375 46.53125 36.375 47.5 \r\nQ 32.28125 48.484375 27.875 48.484375 \r\nQ 21.1875 48.484375 17.84375 46.4375 \r\nQ 14.5 44.390625 14.5 40.28125 \r\nQ 14.5 37.15625 16.890625 35.375 \r\nQ 19.28125 33.59375 26.515625 31.984375 \r\nL 29.59375 31.296875 \r\nQ 39.15625 29.25 43.1875 25.515625 \r\nQ 47.21875 21.78125 47.21875 15.09375 \r\nQ 47.21875 7.46875 41.1875 3.015625 \r\nQ 35.15625 -1.421875 24.609375 -1.421875 \r\nQ 20.21875 -1.421875 15.453125 -0.5625 \r\nQ 10.6875 0.296875 5.421875 2 \r\nL 5.421875 11.28125 \r\nQ 10.40625 8.6875 15.234375 7.390625 \r\nQ 20.0625 6.109375 24.8125 6.109375 \r\nQ 31.15625 6.109375 34.5625 8.28125 \r\nQ 37.984375 10.453125 37.984375 14.40625 \r\nQ 37.984375 18.0625 35.515625 20.015625 \r\nQ 33.0625 21.96875 24.703125 23.78125 \r\nL 21.578125 24.515625 \r\nQ 13.234375 26.265625 9.515625 29.90625 \r\nQ 5.8125 33.546875 5.8125 39.890625 \r\nQ 5.8125 47.609375 11.28125 51.796875 \r\nQ 16.75 56 26.8125 56 \r\nQ 31.78125 56 36.171875 55.265625 \r\nQ 40.578125 54.546875 44.28125 53.078125 \r\nz\r\n\" id=\"DejaVuSans-115\"/>\r\n       <path d=\"M 54.890625 33.015625 \r\nL 54.890625 0 \r\nL 45.90625 0 \r\nL 45.90625 32.71875 \r\nQ 45.90625 40.484375 42.875 44.328125 \r\nQ 39.84375 48.1875 33.796875 48.1875 \r\nQ 26.515625 48.1875 22.3125 43.546875 \r\nQ 18.109375 38.921875 18.109375 30.90625 \r\nL 18.109375 0 \r\nL 9.078125 0 \r\nL 9.078125 54.6875 \r\nL 18.109375 54.6875 \r\nL 18.109375 46.1875 \r\nQ 21.34375 51.125 25.703125 53.5625 \r\nQ 30.078125 56 35.796875 56 \r\nQ 45.21875 56 50.046875 50.171875 \r\nQ 54.890625 44.34375 54.890625 33.015625 \r\nz\r\n\" id=\"DejaVuSans-110\"/>\r\n      </defs>\r\n      <use xlink:href=\"#DejaVuSans-112\"/>\r\n      <use x=\"63.476562\" xlink:href=\"#DejaVuSans-114\"/>\r\n      <use x=\"102.339844\" xlink:href=\"#DejaVuSans-101\"/>\r\n      <use x=\"163.863281\" xlink:href=\"#DejaVuSans-99\"/>\r\n      <use x=\"218.84375\" xlink:href=\"#DejaVuSans-105\"/>\r\n      <use x=\"246.626953\" xlink:href=\"#DejaVuSans-115\"/>\r\n      <use x=\"298.726562\" xlink:href=\"#DejaVuSans-105\"/>\r\n      <use x=\"326.509766\" xlink:href=\"#DejaVuSans-111\"/>\r\n      <use x=\"387.691406\" xlink:href=\"#DejaVuSans-110\"/>\r\n     </g>\r\n    </g>\r\n    <g id=\"line2d_24\">\r\n     <path d=\"M 309.1875 129.8575 \r\nL 329.1875 129.8575 \r\n\" style=\"fill:none;stroke:#2ca02c;stroke-linecap:square;stroke-width:1.5;\"/>\r\n    </g>\r\n    <g id=\"line2d_25\"/>\r\n    <g id=\"text_21\">\r\n     <!-- recall -->\r\n     <g transform=\"translate(337.1875 133.3575)scale(0.1 -0.1)\">\r\n      <use xlink:href=\"#DejaVuSans-114\"/>\r\n      <use x=\"38.863281\" xlink:href=\"#DejaVuSans-101\"/>\r\n      <use x=\"100.386719\" xlink:href=\"#DejaVuSans-99\"/>\r\n      <use x=\"155.367188\" xlink:href=\"#DejaVuSans-97\"/>\r\n      <use x=\"216.646484\" xlink:href=\"#DejaVuSans-108\"/>\r\n      <use x=\"244.429688\" xlink:href=\"#DejaVuSans-108\"/>\r\n     </g>\r\n    </g>\r\n   </g>\r\n  </g>\r\n </g>\r\n <defs>\r\n  <clipPath id=\"p9747af8d71\">\r\n   <rect height=\"217.44\" width=\"334.8\" x=\"56.50625\" y=\"7.2\"/>\r\n  </clipPath>\r\n </defs>\r\n</svg>\r\n",
      "image/png": "[encoded data removed]"
     },
     "metadata": {
      "needs_background": "light"
     }
    }
   ],
   "source": [
    "epochs = 20\n",
    "classification_threshold = 0.6\n",
    "batch_size = 16\n",
    "#features = df[[\"first_blood_team\",\"roshan_team\"]].values.astype(float)\n",
    "#features = df[[\"first_blood_team\"]].values.astype(float)\n",
    "#labels = df[\"radiant_win\"].values.astype(float)\n",
    "\n",
    "#features_train, features_test, labels_train, labels_test = train_test_split(features, labels, test_size = 0.3, random_state = 9)\n",
    "\n",
    "METRICS = [\n",
    "      tf.keras.metrics.BinaryAccuracy(name='accuracy', threshold=classification_threshold),\n",
    "      tf.keras.metrics.Precision(name='precision', thresholds=classification_threshold),\n",
    "      tf.keras.metrics.Recall(name=\"recall\", thresholds=classification_threshold)\n",
    "]\n",
    "\n",
    "model = tf.keras.models.Sequential()\n",
    "model.add(feature_layer)\n",
    "model.add(layers.Activation(activations.sigmoid))\n",
    "model.compile(optimizer=tf.keras.optimizers.Adam(learning_rate=0.01), loss=tf.keras.losses.BinaryCrossentropy(), metrics=METRICS)\n",
    "\n",
    "features = {name:np.array(value) for name, value in df_train.items()}\n",
    "labels = np.array(features.pop(\"radiant_win\"))\n",
    "\n",
    "history = model.fit(x=features, y=labels, batch_size=batch_size, epochs=epochs, shuffle=True)\n",
    "epochs = history.epoch\n",
    "hist = pd.DataFrame(history.history)\n",
    "\n",
    "plt.figure()\n",
    "plt.xlabel(\"Epoch\")\n",
    "plt.ylabel(\"Value\")\n",
    "\n",
    "for m in ['accuracy', \"precision\", \"recall\"]:\n",
    "    x = hist[m]\n",
    "    plt.plot(epochs[1:], x[1:], label=m)\n",
    "\n",
    "plt.legend()"
   ]
  },
  {
   "source": [
    "Even tough our machine learning model is not succesful, I am not sure about it is possible to create better model. Our model does not seems to get better with each iteration. Only thing that affects our metrics is classification treshold."
   ],
   "cell_type": "markdown",
   "metadata": {}
  }
 ]
}